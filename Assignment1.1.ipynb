{
 "cells": [
  {
   "cell_type": "code",
   "execution_count": 1,
   "id": "8db0e133",
   "metadata": {},
   "outputs": [],
   "source": [
    "# Name: Kadam Shubham Devidasrao\n",
    "# Roll No: 73\n",
    "# Class: T1B\n",
    "\n",
    "import numpy as np  # Import NumPy library\n"
   ]
  },
  {
   "cell_type": "code",
   "execution_count": 2,
   "id": "df84d464",
   "metadata": {},
   "outputs": [
    {
     "name": "stdout",
     "output_type": "stream",
     "text": [
      "Array1: [1 2 3 4 5 6]\n",
      "Size of array1: 6\n",
      "Dimensions of array1: 1\n"
     ]
    }
   ],
   "source": [
    "# Create a 1D array\n",
    "array1 = np.array([1, 2, 3, 4, 5, 6])\n",
    "print(\"Array1:\", array1)\n",
    "\n",
    "# Get size and number of dimensions\n",
    "print(\"Size of array1:\", array1.size)\n",
    "print(\"Dimensions of array1:\", array1.ndim)\n"
   ]
  },
  {
   "cell_type": "code",
   "execution_count": 3,
   "id": "27ccc6c4",
   "metadata": {},
   "outputs": [
    {
     "name": "stdout",
     "output_type": "stream",
     "text": [
      "Array2:\n",
      " [[ 7  8  9]\n",
      " [23  4  5]]\n",
      "Size of array2: 6\n",
      "Dimensions of array2: 2\n"
     ]
    }
   ],
   "source": [
    "# Create a 2D array\n",
    "array2 = np.array([[7, 8, 9], [23, 4, 5]])\n",
    "print(\"Array2:\\n\", array2)\n",
    "print(\"Size of array2:\", array2.size)\n",
    "print(\"Dimensions of array2:\", array2.ndim)\n"
   ]
  },
  {
   "cell_type": "code",
   "execution_count": 4,
   "id": "3f2a40a1",
   "metadata": {},
   "outputs": [
    {
     "name": "stdout",
     "output_type": "stream",
     "text": [
      "Reshaped array1 (2x3):\n",
      " [[1 2 3]\n",
      " [4 5 6]]\n"
     ]
    }
   ],
   "source": [
    "# Reshape array1 to 2 rows and 3 columns\n",
    "reshaped_array1 = array1.reshape(2, 3)\n",
    "print(\"Reshaped array1 (2x3):\\n\", reshaped_array1)\n"
   ]
  },
  {
   "cell_type": "code",
   "execution_count": 5,
   "id": "bcb3be9a",
   "metadata": {},
   "outputs": [
    {
     "name": "stdout",
     "output_type": "stream",
     "text": [
      "Element at index 2 in array1: 3\n",
      "Last element in array1: 6\n"
     ]
    }
   ],
   "source": [
    "# Indexing examples\n",
    "print(\"Element at index 2 in array1:\", array1[2])\n",
    "print(\"Last element in array1:\", array1[-1])\n"
   ]
  },
  {
   "cell_type": "code",
   "execution_count": 6,
   "id": "c12a9188",
   "metadata": {},
   "outputs": [
    {
     "name": "stdout",
     "output_type": "stream",
     "text": [
      "Shape of array2: (2, 3)\n"
     ]
    }
   ],
   "source": [
    "# Shape of array2\n",
    "print(\"Shape of array2:\", array2.shape)\n"
   ]
  },
  {
   "cell_type": "code",
   "execution_count": 7,
   "id": "2197124c",
   "metadata": {},
   "outputs": [
    {
     "name": "stdout",
     "output_type": "stream",
     "text": [
      "Array3:\n",
      " [[1 2 3]\n",
      " [4 5 6]\n",
      " [8 9 7]]\n",
      "Array4:\n",
      " [[12 23 33]\n",
      " [45 66 76]\n",
      " [45 22 13]]\n"
     ]
    }
   ],
   "source": [
    "# Create two 3x3 arrays\n",
    "array3 = np.array([[1, 2, 3], [4, 5, 6], [8, 9, 7]])\n",
    "array4 = np.array([[12, 23, 33], [45, 66, 76], [45, 22, 13]])\n",
    "\n",
    "print(\"Array3:\\n\", array3)\n",
    "print(\"Array4:\\n\", array4)\n"
   ]
  },
  {
   "cell_type": "code",
   "execution_count": 8,
   "id": "a962aa04",
   "metadata": {},
   "outputs": [
    {
     "name": "stdout",
     "output_type": "stream",
     "text": [
      "Addition:\n",
      " [[13 25 36]\n",
      " [49 71 82]\n",
      " [53 31 20]]\n",
      "---------\n",
      "Subtraction:\n",
      " [[-11 -21 -30]\n",
      " [-41 -61 -70]\n",
      " [-37 -13  -6]]\n",
      "---------\n",
      "Multiplication:\n",
      " [[ 12  46  99]\n",
      " [180 330 456]\n",
      " [360 198  91]]\n",
      "---------\n",
      "Division:\n",
      " [[0.08333333 0.08695652 0.09090909]\n",
      " [0.08888889 0.07575758 0.07894737]\n",
      " [0.17777778 0.40909091 0.53846154]]\n",
      "---------\n",
      "Power:\n",
      " [[          1     8388608 -1504003197]\n",
      " [          0 -1319303399           0]\n",
      " [          0    51933809 -1895237401]]\n"
     ]
    }
   ],
   "source": [
    "# Arithmetic operations\n",
    "print(\"Addition:\\n\", array3 + array4)\n",
    "print(\"---------\")\n",
    "print(\"Subtraction:\\n\", array3 - array4)\n",
    "print(\"---------\")\n",
    "print(\"Multiplication:\\n\", array3 * array4)\n",
    "print(\"---------\")\n",
    "print(\"Division:\\n\", array3 / array4)\n",
    "print(\"---------\")\n",
    "print(\"Power:\\n\", array3 ** array4)\n"
   ]
  },
  {
   "cell_type": "code",
   "execution_count": 9,
   "id": "c8195a30",
   "metadata": {},
   "outputs": [
    {
     "name": "stdout",
     "output_type": "stream",
     "text": [
      "Data type of array3: int32\n"
     ]
    }
   ],
   "source": [
    "# Data type of array3\n",
    "print(\"Data type of array3:\", array3.dtype)\n"
   ]
  },
  {
   "cell_type": "code",
   "execution_count": 10,
   "id": "29e0bc95",
   "metadata": {},
   "outputs": [
    {
     "name": "stdout",
     "output_type": "stream",
     "text": [
      "Array6: [ 2  3  4  5  6  7  8  9 10 11 12]\n"
     ]
    }
   ],
   "source": [
    "# Create array using arange\n",
    "array6 = np.arange(2, 13)\n",
    "print(\"Array6:\", array6)\n"
   ]
  },
  {
   "cell_type": "code",
   "execution_count": 11,
   "id": "c504bfec",
   "metadata": {},
   "outputs": [
    {
     "name": "stdout",
     "output_type": "stream",
     "text": [
      "Index of minimum value: 0\n",
      "Minimum value: 2\n"
     ]
    }
   ],
   "source": [
    "# Minimum value and its index\n",
    "min_index = np.argmin(array6)\n",
    "print(\"Index of minimum value:\", min_index)\n",
    "print(\"Minimum value:\", array6[min_index])\n"
   ]
  },
  {
   "cell_type": "code",
   "execution_count": 12,
   "id": "56f9eb9c",
   "metadata": {},
   "outputs": [
    {
     "name": "stdout",
     "output_type": "stream",
     "text": [
      "Index of maximum value: 10\n",
      "Maximum value: 12\n"
     ]
    }
   ],
   "source": [
    "# Maximum value and its index\n",
    "max_index = np.argmax(array6)\n",
    "print(\"Index of maximum value:\", max_index)\n",
    "print(\"Maximum value:\", array6[max_index])\n"
   ]
  },
  {
   "cell_type": "code",
   "execution_count": 13,
   "id": "c29fe453",
   "metadata": {},
   "outputs": [
    {
     "name": "stdout",
     "output_type": "stream",
     "text": [
      "Evenly spaced numbers from 0 to 1: [0.   0.25 0.5  0.75 1.  ]\n"
     ]
    }
   ],
   "source": [
    "# Evenly spaced numbers between 0 and 1\n",
    "arr = np.linspace(0, 1, 5)\n",
    "print(\"Evenly spaced numbers from 0 to 1:\", arr)\n"
   ]
  }
 ],
 "metadata": {
  "kernelspec": {
   "display_name": "Python 3",
   "language": "python",
   "name": "python3"
  },
  "language_info": {
   "codemirror_mode": {
    "name": "ipython",
    "version": 3
   },
   "file_extension": ".py",
   "mimetype": "text/x-python",
   "name": "python",
   "nbconvert_exporter": "python",
   "pygments_lexer": "ipython3",
   "version": "3.7.6"
  }
 },
 "nbformat": 4,
 "nbformat_minor": 5
}
